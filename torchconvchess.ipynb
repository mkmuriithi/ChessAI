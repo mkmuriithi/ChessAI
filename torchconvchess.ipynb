{
  "nbformat": 4,
  "nbformat_minor": 0,
  "metadata": {
    "colab": {
      "name": "Untitled1.ipynb",
      "provenance": [],
      "authorship_tag": "ABX9TyOWDUZ6vejOq5bjoeVxmhPW",
      "include_colab_link": true
    },
    "kernelspec": {
      "name": "python3",
      "display_name": "Python 3"
    }
  },
  "cells": [
    {
      "cell_type": "markdown",
      "metadata": {
        "id": "view-in-github",
        "colab_type": "text"
      },
      "source": [
        "<a href=\"https://colab.research.google.com/github/mkmuriithi/ChessAI/blob/master/torchconvchess.ipynb\" target=\"_parent\"><img src=\"https://colab.research.google.com/assets/colab-badge.svg\" alt=\"Open In Colab\"/></a>"
      ]
    },
    {
      "cell_type": "markdown",
      "metadata": {
        "id": "WXoBt7Po5aVZ",
        "colab_type": "text"
      },
      "source": [
        "**Convolutional Chess Neural Network**\n",
        "\n",
        "This neural network \n"
      ]
    },
    {
      "cell_type": "code",
      "metadata": {
        "id": "KQ7KUDab5Zp1",
        "colab_type": "code",
        "colab": {
          "base_uri": "https://localhost:8080/",
          "height": 34
        },
        "outputId": "2bccb1fd-688c-4ed7-ecaf-20e7653e1426"
      },
      "source": [
        "import chess.pgn as pgn\n",
        "import chess\n",
        "import torch as torch\n",
        "SIZE = (8, 8, 6)\n",
        "\n",
        "from google.colab import drive\n",
        "drive.mount('/content/gdrive')\n",
        "\n",
        "games_data_path = '/content/gdrive/My Drive/ConvChess/data/FICS_2000.pgn'\n",
        "#test_path = '/content/gdrive/My Drive/ConvChess/data/'\n",
        "NUM_GAMES = 2000\n",
        "\n"
      ],
      "execution_count": 4,
      "outputs": [
        {
          "output_type": "stream",
          "text": [
            "Mounted at /content/gdrive\n"
          ],
          "name": "stdout"
        }
      ]
    },
    {
      "cell_type": "code",
      "metadata": {
        "id": "OdrfCIjniKor",
        "colab_type": "code",
        "colab": {}
      },
      "source": [
        "#Read the path of the game\n",
        "print(\"Reading pgn file\")\n",
        "\n",
        "#extract the games from the pgn file\n",
        "games_file = open(games_data_path)\n",
        "text_of_games = games_file.read() #read all the text from the file\n",
        "#close the file\n",
        "games_file.close()\n",
        "games = pgn.loads(text_of_games)\n"
      ],
      "execution_count": null,
      "outputs": []
    }
  ]
}