{
  "nbformat": 4,
  "nbformat_minor": 0,
  "metadata": {
    "colab": {
      "name": "Copy of Untitled1.ipynb",
      "provenance": [],
      "authorship_tag": "ABX9TyM1tDm/G4Shv3hhdaqplLcu",
      "include_colab_link": true
    },
    "kernelspec": {
      "name": "python3",
      "display_name": "Python 3"
    }
  },
  "cells": [
    {
      "cell_type": "markdown",
      "metadata": {
        "id": "view-in-github",
        "colab_type": "text"
      },
      "source": [
        "<a href=\"https://colab.research.google.com/github/mkmuriithi/ChessAI/blob/master/Copy_of_Untitled1.ipynb\" target=\"_parent\"><img src=\"https://colab.research.google.com/assets/colab-badge.svg\" alt=\"Open In Colab\"/></a>"
      ]
    },
    {
      "cell_type": "markdown",
      "metadata": {
        "id": "WXoBt7Po5aVZ"
      },
      "source": [
        "**Convolutional Chess Neural Network**\n",
        "\n",
        "This neural network \n"
      ]
    },
    {
      "cell_type": "code",
      "metadata": {
        "id": "2Vq6zNtoB3Lw",
        "outputId": "043ed0f6-3b5f-4984-f98a-02e8ac200a48",
        "colab": {
          "base_uri": "https://localhost:8080/",
          "height": 34
        }
      },
      "source": [
        "pip install pgn-read;\n"
      ],
      "execution_count": null,
      "outputs": [
        {
          "output_type": "stream",
          "text": [
            "Requirement already satisfied: pgn-read in /usr/local/lib/python3.6/dist-packages (2.0)\n"
          ],
          "name": "stdout"
        }
      ]
    },
    {
      "cell_type": "code",
      "metadata": {
        "id": "NrAr6KGBeR1t",
        "outputId": "e44f70ea-5aff-4eba-e9d1-39023bda3aa7",
        "colab": {
          "base_uri": "https://localhost:8080/",
          "height": 289
        }
      },
      "source": [
        "pip install drawSvg\n"
      ],
      "execution_count": null,
      "outputs": [
        {
          "output_type": "stream",
          "text": [
            "Collecting drawSvg\n",
            "  Downloading https://files.pythonhosted.org/packages/b0/25/72b3cc2a84d59b0ccf67c18abe5b896757f22eb31be74a2fe2d6a478f59f/drawSvg-1.7.0-py3-none-any.whl\n",
            "Requirement already satisfied: numpy in /usr/local/lib/python3.6/dist-packages (from drawSvg) (1.18.5)\n",
            "Requirement already satisfied: cairoSVG in /usr/local/lib/python3.6/dist-packages (from drawSvg) (2.4.2)\n",
            "Requirement already satisfied: imageio in /usr/local/lib/python3.6/dist-packages (from drawSvg) (2.4.1)\n",
            "Requirement already satisfied: cssselect2 in /usr/local/lib/python3.6/dist-packages (from cairoSVG->drawSvg) (0.3.0)\n",
            "Requirement already satisfied: pillow in /usr/local/lib/python3.6/dist-packages (from cairoSVG->drawSvg) (7.0.0)\n",
            "Requirement already satisfied: cairocffi in /usr/local/lib/python3.6/dist-packages (from cairoSVG->drawSvg) (1.1.0)\n",
            "Requirement already satisfied: defusedxml in /usr/local/lib/python3.6/dist-packages (from cairoSVG->drawSvg) (0.6.0)\n",
            "Requirement already satisfied: tinycss2 in /usr/local/lib/python3.6/dist-packages (from cairoSVG->drawSvg) (1.0.2)\n",
            "Requirement already satisfied: setuptools>=39.2.0 in /usr/local/lib/python3.6/dist-packages (from cssselect2->cairoSVG->drawSvg) (50.3.0)\n",
            "Requirement already satisfied: webencodings in /usr/local/lib/python3.6/dist-packages (from cssselect2->cairoSVG->drawSvg) (0.5.1)\n",
            "Requirement already satisfied: cffi>=1.1.0 in /usr/local/lib/python3.6/dist-packages (from cairocffi->cairoSVG->drawSvg) (1.14.3)\n",
            "Requirement already satisfied: pycparser in /usr/local/lib/python3.6/dist-packages (from cffi>=1.1.0->cairocffi->cairoSVG->drawSvg) (2.20)\n",
            "Installing collected packages: drawSvg\n",
            "Successfully installed drawSvg-1.7.0\n"
          ],
          "name": "stdout"
        }
      ]
    },
    {
      "cell_type": "code",
      "metadata": {
        "id": "ekyQHtksC6qz",
        "outputId": "bc7c5297-9177-4fa1-e2be-039e06acb4f5",
        "colab": {
          "base_uri": "https://localhost:8080/",
          "height": 425
        }
      },
      "source": [
        "pip install cairosvg"
      ],
      "execution_count": null,
      "outputs": [
        {
          "output_type": "stream",
          "text": [
            "Collecting cairosvg\n",
            "\u001b[?25l  Downloading https://files.pythonhosted.org/packages/8e/3a/762f9272c20db092f4d537aaf364dd0770ecf8f7101b58c4e933e99ee2f6/CairoSVG-2.4.2-py3-none-any.whl (50kB)\n",
            "\r\u001b[K     |██████▌                         | 10kB 10.9MB/s eta 0:00:01\r\u001b[K     |█████████████                   | 20kB 1.7MB/s eta 0:00:01\r\u001b[K     |███████████████████▍            | 30kB 2.1MB/s eta 0:00:01\r\u001b[K     |█████████████████████████▉      | 40kB 2.5MB/s eta 0:00:01\r\u001b[K     |████████████████████████████████| 51kB 1.5MB/s \n",
            "\u001b[?25hRequirement already satisfied: defusedxml in /usr/local/lib/python3.6/dist-packages (from cairosvg) (0.6.0)\n",
            "Requirement already satisfied: pillow in /usr/local/lib/python3.6/dist-packages (from cairosvg) (7.0.0)\n",
            "Collecting cssselect2\n",
            "  Downloading https://files.pythonhosted.org/packages/72/bb/9ad85eacc5f273b08bd5203a1d587479a93f27df9056e4e5f63276f4fd0e/cssselect2-0.3.0-py3-none-any.whl\n",
            "Collecting cairocffi\n",
            "\u001b[?25l  Downloading https://files.pythonhosted.org/packages/f7/99/b3a2c6393563ccbe081ffcceb359ec27a6227792c5169604c1bd8128031a/cairocffi-1.1.0.tar.gz (68kB)\n",
            "\u001b[K     |████████████████████████████████| 71kB 5.0MB/s \n",
            "\u001b[?25hCollecting tinycss2\n",
            "\u001b[?25l  Downloading https://files.pythonhosted.org/packages/94/2c/4e501f9c351343c8ba10d70b5a7ca97cdab2690af043a6e52ada65b85b6b/tinycss2-1.0.2-py3-none-any.whl (61kB)\n",
            "\u001b[K     |████████████████████████████████| 71kB 6.4MB/s \n",
            "\u001b[?25hRequirement already satisfied: setuptools>=39.2.0 in /usr/local/lib/python3.6/dist-packages (from cssselect2->cairosvg) (50.3.0)\n",
            "Requirement already satisfied: webencodings in /usr/local/lib/python3.6/dist-packages (from cssselect2->cairosvg) (0.5.1)\n",
            "Requirement already satisfied: cffi>=1.1.0 in /usr/local/lib/python3.6/dist-packages (from cairocffi->cairosvg) (1.14.3)\n",
            "Requirement already satisfied: pycparser in /usr/local/lib/python3.6/dist-packages (from cffi>=1.1.0->cairocffi->cairosvg) (2.20)\n",
            "Building wheels for collected packages: cairocffi\n",
            "  Building wheel for cairocffi (setup.py) ... \u001b[?25l\u001b[?25hdone\n",
            "  Created wheel for cairocffi: filename=cairocffi-1.1.0-cp36-none-any.whl size=88591 sha256=771f0c6c84009d20ea223c85406e13e695d98c83563baa4343d2881ec35f509b\n",
            "  Stored in directory: /root/.cache/pip/wheels/11/5e/47/167d9dfd5fa5850dd0cd3db80afe6db46e620edec3419dce5a\n",
            "Successfully built cairocffi\n",
            "Installing collected packages: tinycss2, cssselect2, cairocffi, cairosvg\n",
            "Successfully installed cairocffi-1.1.0 cairosvg-2.4.2 cssselect2-0.3.0 tinycss2-1.0.2\n"
          ],
          "name": "stdout"
        }
      ]
    },
    {
      "cell_type": "code",
      "metadata": {
        "id": "KQ7KUDab5Zp1",
        "outputId": "c61fd155-08ac-4497-c40c-75f8575bca8c",
        "colab": {
          "base_uri": "https://localhost:8080/",
          "height": 34
        }
      },
      "source": [
        "import chess.pgn as pgn\n",
        "import chess\n",
        "import torch as torch\n",
        "import pandas as pd\n",
        "SIZE = (8, 8, 6)\n",
        "\n",
        "from google.colab import drive\n",
        "drive.mount('/content/gdrive')\n",
        "\n",
        "games_data_path = '/content/gdrive/My Drive/ConvChess/data/FICS_2000.pgn'\n",
        "#test_path = '/content/gdrive/My Drive/ConvChess/data/'\n",
        "NUM_GAMES = 2000\n",
        "\n"
      ],
      "execution_count": 1,
      "outputs": [
        {
          "output_type": "stream",
          "text": [
            "Mounted at /content/gdrive\n"
          ],
          "name": "stdout"
        }
      ]
    },
    {
      "cell_type": "code",
      "metadata": {
        "id": "OdrfCIjniKor",
        "outputId": "045a0d99-fd49-4533-c336-e2f73e902c09",
        "colab": {
          "base_uri": "https://localhost:8080/",
          "height": 394
        }
      },
      "source": [
        "#Read the path of the game\n",
        "print(\"Reading pgn file\")\n",
        "\n",
        "#extract the games from the pgn file\n",
        "games_pgn = open(games_data_path)\n",
        "\n",
        "\n",
        "#read one game at a time\n",
        "first_game = pgn.read_game(games_pgn)\n",
        "\n",
        "#Lets see how a typical game looks like\n",
        "print(first_game.headers)\n",
        "print(first_game)\n",
        "#Create a board\n",
        "board = chess.Board()\n",
        "\n"
      ],
      "execution_count": 5,
      "outputs": [
        {
          "output_type": "stream",
          "text": [
            "Reading pgn file\n",
            "Headers(Event='FICS rated lightning game', Site='FICS freechess.org', Date='2015.02.01', Round='?', White='theblob', Black='IFDThor', Result='0-1', BlackClock='0:01:00.000', BlackElo='2172', BlackIsComp='Yes', ECO='E21', FICSGamesDBGameNo='371408371', PlyCount='52', Time='02:55:00', TimeControl='60+0', WhiteClock='0:01:00.000', WhiteElo='1834')\n",
            "[Event \"FICS rated lightning game\"]\n",
            "[Site \"FICS freechess.org\"]\n",
            "[Date \"2015.02.01\"]\n",
            "[Round \"?\"]\n",
            "[White \"theblob\"]\n",
            "[Black \"IFDThor\"]\n",
            "[Result \"0-1\"]\n",
            "[BlackClock \"0:01:00.000\"]\n",
            "[BlackElo \"2172\"]\n",
            "[BlackIsComp \"Yes\"]\n",
            "[ECO \"E21\"]\n",
            "[FICSGamesDBGameNo \"371408371\"]\n",
            "[PlyCount \"52\"]\n",
            "[Time \"02:55:00\"]\n",
            "[TimeControl \"60+0\"]\n",
            "[WhiteClock \"0:01:00.000\"]\n",
            "[WhiteElo \"1834\"]\n",
            "\n",
            "1. d4 Nf6 2. c4 e6 3. Nc3 Bb4 4. Nf3 b6 5. Bf4 O-O 6. e3 Ne4 7. Bd3 Nxc3 8. bxc3 Bxc3+ 9. Nd2 Bxa1 10. Qxa1 Nc6 11. O-O d6 12. d5 e5 13. dxc6 exf4 14. exf4 Re8 15. Ne4 Qh4 16. g3 Qg4 17. f3 Qh5 18. Ng5 h6 19. Ne4 f5 20. Nc3 a5 21. Nd5 Ra7 22. Qd4 Qh3 23. a4 Kh7 24. Bc2 Re2 25. Rf2 Re1+ 26. Rf1 Qxf1# { White checkmated } 0-1\n"
          ],
          "name": "stdout"
        }
      ]
    },
    {
      "cell_type": "code",
      "metadata": {
        "id": "5s8Q_6LXJUuz",
        "outputId": "33261af9-a413-4bbb-86d6-675556ba828a",
        "colab": {
          "base_uri": "https://localhost:8080/",
          "height": 129
        }
      },
      "source": [
        "# We want to represent a board as a 8 x 8 x 6 board\n",
        "# We'rr going to have to have a function to convery\n",
        "import chess.svg\n",
        "\n",
        "\n",
        "board_visualization = chess.svg.board(board = board)\n",
        "chess_picture = open(\"/content/gdrive/My Drive/ConvChess/BoardVisualization.svg\", \"w\")\n",
        "chess_picture.write(board_visualization)\n",
        "chess_picture.close\n",
        "chess_picture"
      ],
      "execution_count": null,
      "outputs": [
        {
          "output_type": "error",
          "ename": "SyntaxError",
          "evalue": "ignored",
          "traceback": [
            "\u001b[0;36m  File \u001b[0;32m\"<ipython-input-18-04256de47be2>\"\u001b[0;36m, line \u001b[0;32m4\u001b[0m\n\u001b[0;31m    pip install pyvips\u001b[0m\n\u001b[0m              ^\u001b[0m\n\u001b[0;31mSyntaxError\u001b[0m\u001b[0;31m:\u001b[0m invalid syntax\n"
          ]
        }
      ]
    },
    {
      "cell_type": "code",
      "metadata": {
        "id": "VerSOGIGdifh",
        "outputId": "2c949f07-ab6e-49eb-e338-6213b03dd00b",
        "colab": {
          "base_uri": "https://localhost:8080/",
          "height": 163
        }
      },
      "source": [
        "importoyvips"
      ],
      "execution_count": null,
      "outputs": [
        {
          "output_type": "error",
          "ename": "NameError",
          "evalue": "ignored",
          "traceback": [
            "\u001b[0;31m---------------------------------------------------------------------------\u001b[0m",
            "\u001b[0;31mNameError\u001b[0m                                 Traceback (most recent call last)",
            "\u001b[0;32m<ipython-input-16-c2a1fa05b1de>\u001b[0m in \u001b[0;36m<module>\u001b[0;34m()\u001b[0m\n\u001b[0;32m----> 1\u001b[0;31m \u001b[0mcairosvg\u001b[0m\u001b[0;34m\u001b[0m\u001b[0;34m\u001b[0m\u001b[0m\n\u001b[0m",
            "\u001b[0;31mNameError\u001b[0m: name 'cairosvg' is not defined"
          ]
        }
      ]
    }
  ]
}